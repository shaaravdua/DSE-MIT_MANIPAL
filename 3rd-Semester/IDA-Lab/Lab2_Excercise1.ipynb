{
 "cells": [
  {
   "cell_type": "code",
   "execution_count": 1,
   "id": "d512fd1e",
   "metadata": {},
   "outputs": [],
   "source": [
    "#lab 2\n",
    "#EXERCISE 1 : Introduction to Pandas\n",
    "#DATE : 02-09-2022\n",
    "#Name : Shaarav Dua\n",
    "#RegNo : 230968256\n",
    "#Batch : 4"
   ]
  },
  {
   "cell_type": "code",
   "execution_count": 2,
   "id": "8aefa4de",
   "metadata": {},
   "outputs": [],
   "source": [
    "import pandas as pd"
   ]
  },
  {
   "cell_type": "code",
   "execution_count": 3,
   "id": "9113713e",
   "metadata": {},
   "outputs": [],
   "source": [
    "#Q1. Create a data frame with details of 10 students and columns as Roll Number, Name, Gender, Marks1, Marks2, Marks3."
   ]
  },
  {
   "cell_type": "code",
   "execution_count": 4,
   "id": "10915ef0",
   "metadata": {},
   "outputs": [],
   "source": [
    "data = {'Roll No':['1','2','3','4','5','6','7','8','9','10'],\n",
    "        'Name':['Sithal','Ranjan','Shaaru','Varun','Rohan','Anika','Jaanki','Preetam','Kartabya','Tanuja'],\n",
    "        'Gender':['Female','Male','Female','Male','Male','Female','Female','Male','Male','Female'],\n",
    "        'Marks1':[61,88,89,68,55,44,29,85,100,11],\n",
    "        'Marks2':[29,33,44,45,61,67,87,99,100,100],\n",
    "        'Marks3':[90,47,78,23,97,72,56,73,95,56]\n",
    "       }"
   ]
  },
  {
   "cell_type": "code",
   "execution_count": 5,
   "id": "6fd055fd",
   "metadata": {},
   "outputs": [],
   "source": [
    "df = pd.DataFrame(data)"
   ]
  },
  {
   "cell_type": "code",
   "execution_count": 6,
   "id": "491ccf1d",
   "metadata": {},
   "outputs": [
    {
     "data": {
      "text/html": [
       "<div>\n",
       "<style scoped>\n",
       "    .dataframe tbody tr th:only-of-type {\n",
       "        vertical-align: middle;\n",
       "    }\n",
       "\n",
       "    .dataframe tbody tr th {\n",
       "        vertical-align: top;\n",
       "    }\n",
       "\n",
       "    .dataframe thead th {\n",
       "        text-align: right;\n",
       "    }\n",
       "</style>\n",
       "<table border=\"1\" class=\"dataframe\">\n",
       "  <thead>\n",
       "    <tr style=\"text-align: right;\">\n",
       "      <th></th>\n",
       "      <th>Roll No</th>\n",
       "      <th>Name</th>\n",
       "      <th>Gender</th>\n",
       "      <th>Marks1</th>\n",
       "      <th>Marks2</th>\n",
       "      <th>Marks3</th>\n",
       "    </tr>\n",
       "  </thead>\n",
       "  <tbody>\n",
       "    <tr>\n",
       "      <th>0</th>\n",
       "      <td>1</td>\n",
       "      <td>Sithal</td>\n",
       "      <td>Female</td>\n",
       "      <td>61</td>\n",
       "      <td>29</td>\n",
       "      <td>90</td>\n",
       "    </tr>\n",
       "    <tr>\n",
       "      <th>1</th>\n",
       "      <td>2</td>\n",
       "      <td>Ranjan</td>\n",
       "      <td>Male</td>\n",
       "      <td>88</td>\n",
       "      <td>33</td>\n",
       "      <td>47</td>\n",
       "    </tr>\n",
       "    <tr>\n",
       "      <th>2</th>\n",
       "      <td>3</td>\n",
       "      <td>Shaaru</td>\n",
       "      <td>Female</td>\n",
       "      <td>89</td>\n",
       "      <td>44</td>\n",
       "      <td>78</td>\n",
       "    </tr>\n",
       "    <tr>\n",
       "      <th>3</th>\n",
       "      <td>4</td>\n",
       "      <td>Varun</td>\n",
       "      <td>Male</td>\n",
       "      <td>68</td>\n",
       "      <td>45</td>\n",
       "      <td>23</td>\n",
       "    </tr>\n",
       "    <tr>\n",
       "      <th>4</th>\n",
       "      <td>5</td>\n",
       "      <td>Rohan</td>\n",
       "      <td>Male</td>\n",
       "      <td>55</td>\n",
       "      <td>61</td>\n",
       "      <td>97</td>\n",
       "    </tr>\n",
       "    <tr>\n",
       "      <th>5</th>\n",
       "      <td>6</td>\n",
       "      <td>Anika</td>\n",
       "      <td>Female</td>\n",
       "      <td>44</td>\n",
       "      <td>67</td>\n",
       "      <td>72</td>\n",
       "    </tr>\n",
       "    <tr>\n",
       "      <th>6</th>\n",
       "      <td>7</td>\n",
       "      <td>Jaanki</td>\n",
       "      <td>Female</td>\n",
       "      <td>29</td>\n",
       "      <td>87</td>\n",
       "      <td>56</td>\n",
       "    </tr>\n",
       "    <tr>\n",
       "      <th>7</th>\n",
       "      <td>8</td>\n",
       "      <td>Preetam</td>\n",
       "      <td>Male</td>\n",
       "      <td>85</td>\n",
       "      <td>99</td>\n",
       "      <td>73</td>\n",
       "    </tr>\n",
       "    <tr>\n",
       "      <th>8</th>\n",
       "      <td>9</td>\n",
       "      <td>Kartabya</td>\n",
       "      <td>Male</td>\n",
       "      <td>100</td>\n",
       "      <td>100</td>\n",
       "      <td>95</td>\n",
       "    </tr>\n",
       "    <tr>\n",
       "      <th>9</th>\n",
       "      <td>10</td>\n",
       "      <td>Tanuja</td>\n",
       "      <td>Female</td>\n",
       "      <td>11</td>\n",
       "      <td>100</td>\n",
       "      <td>56</td>\n",
       "    </tr>\n",
       "  </tbody>\n",
       "</table>\n",
       "</div>"
      ],
      "text/plain": [
       "  Roll No      Name  Gender  Marks1  Marks2  Marks3\n",
       "0       1    Sithal  Female      61      29      90\n",
       "1       2    Ranjan    Male      88      33      47\n",
       "2       3    Shaaru  Female      89      44      78\n",
       "3       4     Varun    Male      68      45      23\n",
       "4       5     Rohan    Male      55      61      97\n",
       "5       6     Anika  Female      44      67      72\n",
       "6       7    Jaanki  Female      29      87      56\n",
       "7       8   Preetam    Male      85      99      73\n",
       "8       9  Kartabya    Male     100     100      95\n",
       "9      10    Tanuja  Female      11     100      56"
      ]
     },
     "execution_count": 6,
     "metadata": {},
     "output_type": "execute_result"
    }
   ],
   "source": [
    "df"
   ]
  },
  {
   "cell_type": "code",
   "execution_count": 7,
   "id": "2573d170",
   "metadata": {},
   "outputs": [],
   "source": [
    "df"
   ]
  },
  {
   "cell_type": "code",
   "execution_count": 8,
   "id": "acc33324",
   "metadata": {},
   "outputs": [
    {
     "data": {
      "text/html": [
       "<div>\n",
       "<style scoped>\n",
       "    .dataframe tbody tr th:only-of-type {\n",
       "        vertical-align: middle;\n",
       "    }\n",
       "\n",
       "    .dataframe tbody tr th {\n",
       "        vertical-align: top;\n",
       "    }\n",
       "\n",
       "    .dataframe thead th {\n",
       "        text-align: right;\n",
       "    }\n",
       "</style>\n",
       "<table border=\"1\" class=\"dataframe\">\n",
       "  <thead>\n",
       "    <tr style=\"text-align: right;\">\n",
       "      <th></th>\n",
       "      <th>Name</th>\n",
       "      <th>Gender</th>\n",
       "      <th>Marks1</th>\n",
       "      <th>Marks2</th>\n",
       "      <th>Marks3</th>\n",
       "    </tr>\n",
       "    <tr>\n",
       "      <th>Roll No</th>\n",
       "      <th></th>\n",
       "      <th></th>\n",
       "      <th></th>\n",
       "      <th></th>\n",
       "      <th></th>\n",
       "    </tr>\n",
       "  </thead>\n",
       "  <tbody>\n",
       "    <tr>\n",
       "      <th>1</th>\n",
       "      <td>Sithal</td>\n",
       "      <td>Female</td>\n",
       "      <td>61</td>\n",
       "      <td>29</td>\n",
       "      <td>90</td>\n",
       "    </tr>\n",
       "    <tr>\n",
       "      <th>2</th>\n",
       "      <td>Ranjan</td>\n",
       "      <td>Male</td>\n",
       "      <td>88</td>\n",
       "      <td>33</td>\n",
       "      <td>47</td>\n",
       "    </tr>\n",
       "    <tr>\n",
       "      <th>3</th>\n",
       "      <td>Shaaru</td>\n",
       "      <td>Female</td>\n",
       "      <td>89</td>\n",
       "      <td>44</td>\n",
       "      <td>78</td>\n",
       "    </tr>\n",
       "    <tr>\n",
       "      <th>4</th>\n",
       "      <td>Varun</td>\n",
       "      <td>Male</td>\n",
       "      <td>68</td>\n",
       "      <td>45</td>\n",
       "      <td>23</td>\n",
       "    </tr>\n",
       "    <tr>\n",
       "      <th>5</th>\n",
       "      <td>Rohan</td>\n",
       "      <td>Male</td>\n",
       "      <td>55</td>\n",
       "      <td>61</td>\n",
       "      <td>97</td>\n",
       "    </tr>\n",
       "    <tr>\n",
       "      <th>6</th>\n",
       "      <td>Anika</td>\n",
       "      <td>Female</td>\n",
       "      <td>44</td>\n",
       "      <td>67</td>\n",
       "      <td>72</td>\n",
       "    </tr>\n",
       "    <tr>\n",
       "      <th>7</th>\n",
       "      <td>Jaanki</td>\n",
       "      <td>Female</td>\n",
       "      <td>29</td>\n",
       "      <td>87</td>\n",
       "      <td>56</td>\n",
       "    </tr>\n",
       "    <tr>\n",
       "      <th>8</th>\n",
       "      <td>Preetam</td>\n",
       "      <td>Male</td>\n",
       "      <td>85</td>\n",
       "      <td>99</td>\n",
       "      <td>73</td>\n",
       "    </tr>\n",
       "    <tr>\n",
       "      <th>9</th>\n",
       "      <td>Kartabya</td>\n",
       "      <td>Male</td>\n",
       "      <td>100</td>\n",
       "      <td>100</td>\n",
       "      <td>95</td>\n",
       "    </tr>\n",
       "    <tr>\n",
       "      <th>10</th>\n",
       "      <td>Tanuja</td>\n",
       "      <td>Female</td>\n",
       "      <td>11</td>\n",
       "      <td>100</td>\n",
       "      <td>56</td>\n",
       "    </tr>\n",
       "  </tbody>\n",
       "</table>\n",
       "</div>"
      ],
      "text/plain": [
       "             Name  Gender  Marks1  Marks2  Marks3\n",
       "Roll No                                          \n",
       "1          Sithal  Female      61      29      90\n",
       "2          Ranjan    Male      88      33      47\n",
       "3          Shaaru  Female      89      44      78\n",
       "4           Varun    Male      68      45      23\n",
       "5           Rohan    Male      55      61      97\n",
       "6           Anika  Female      44      67      72\n",
       "7          Jaanki  Female      29      87      56\n",
       "8         Preetam    Male      85      99      73\n",
       "9        Kartabya    Male     100     100      95\n",
       "10         Tanuja  Female      11     100      56"
      ]
     },
     "execution_count": 8,
     "metadata": {},
     "output_type": "execute_result"
    }
   ],
   "source": [
    "df"
   ]
  },
  {
   "cell_type": "code",
   "execution_count": 9,
   "id": "dd270f7d",
   "metadata": {},
   "outputs": [],
   "source": [
    "#Q2. Create a new column with total marks"
   ]
  },
  {
   "cell_type": "code",
   "execution_count": 10,
   "id": "147b1dfd",
   "metadata": {},
   "outputs": [],
   "source": [
    "df['TotalMarks'] = df['Marks1'].astype(int)+df['Marks2'].astype(int)+df['Marks3'].astype(int)"
   ]
  },
  {
   "cell_type": "code",
   "execution_count": 11,
   "id": "94fbb07e",
   "metadata": {},
   "outputs": [
    {
     "data": {
      "text/html": [
       "<div>\n",
       "<style scoped>\n",
       "    .dataframe tbody tr th:only-of-type {\n",
       "        vertical-align: middle;\n",
       "    }\n",
       "\n",
       "    .dataframe tbody tr th {\n",
       "        vertical-align: top;\n",
       "    }\n",
       "\n",
       "    .dataframe thead th {\n",
       "        text-align: right;\n",
       "    }\n",
       "</style>\n",
       "<table border=\"1\" class=\"dataframe\">\n",
       "  <thead>\n",
       "    <tr style=\"text-align: right;\">\n",
       "      <th></th>\n",
       "      <th>Name</th>\n",
       "      <th>Gender</th>\n",
       "      <th>Marks1</th>\n",
       "      <th>Marks2</th>\n",
       "      <th>Marks3</th>\n",
       "      <th>TotalMarks</th>\n",
       "    </tr>\n",
       "    <tr>\n",
       "      <th>Roll No</th>\n",
       "      <th></th>\n",
       "      <th></th>\n",
       "      <th></th>\n",
       "      <th></th>\n",
       "      <th></th>\n",
       "      <th></th>\n",
       "    </tr>\n",
       "  </thead>\n",
       "  <tbody>\n",
       "    <tr>\n",
       "      <th>1</th>\n",
       "      <td>Sithal</td>\n",
       "      <td>Female</td>\n",
       "      <td>61</td>\n",
       "      <td>29</td>\n",
       "      <td>90</td>\n",
       "      <td>180</td>\n",
       "    </tr>\n",
       "    <tr>\n",
       "      <th>2</th>\n",
       "      <td>Ranjan</td>\n",
       "      <td>Male</td>\n",
       "      <td>88</td>\n",
       "      <td>33</td>\n",
       "      <td>47</td>\n",
       "      <td>168</td>\n",
       "    </tr>\n",
       "    <tr>\n",
       "      <th>3</th>\n",
       "      <td>Shaaru</td>\n",
       "      <td>Female</td>\n",
       "      <td>89</td>\n",
       "      <td>44</td>\n",
       "      <td>78</td>\n",
       "      <td>211</td>\n",
       "    </tr>\n",
       "    <tr>\n",
       "      <th>4</th>\n",
       "      <td>Varun</td>\n",
       "      <td>Male</td>\n",
       "      <td>68</td>\n",
       "      <td>45</td>\n",
       "      <td>23</td>\n",
       "      <td>136</td>\n",
       "    </tr>\n",
       "    <tr>\n",
       "      <th>5</th>\n",
       "      <td>Rohan</td>\n",
       "      <td>Male</td>\n",
       "      <td>55</td>\n",
       "      <td>61</td>\n",
       "      <td>97</td>\n",
       "      <td>213</td>\n",
       "    </tr>\n",
       "    <tr>\n",
       "      <th>6</th>\n",
       "      <td>Anika</td>\n",
       "      <td>Female</td>\n",
       "      <td>44</td>\n",
       "      <td>67</td>\n",
       "      <td>72</td>\n",
       "      <td>183</td>\n",
       "    </tr>\n",
       "    <tr>\n",
       "      <th>7</th>\n",
       "      <td>Jaanki</td>\n",
       "      <td>Female</td>\n",
       "      <td>29</td>\n",
       "      <td>87</td>\n",
       "      <td>56</td>\n",
       "      <td>172</td>\n",
       "    </tr>\n",
       "    <tr>\n",
       "      <th>8</th>\n",
       "      <td>Preetam</td>\n",
       "      <td>Male</td>\n",
       "      <td>85</td>\n",
       "      <td>99</td>\n",
       "      <td>73</td>\n",
       "      <td>257</td>\n",
       "    </tr>\n",
       "    <tr>\n",
       "      <th>9</th>\n",
       "      <td>Kartabya</td>\n",
       "      <td>Male</td>\n",
       "      <td>100</td>\n",
       "      <td>100</td>\n",
       "      <td>95</td>\n",
       "      <td>295</td>\n",
       "    </tr>\n",
       "    <tr>\n",
       "      <th>10</th>\n",
       "      <td>Tanuja</td>\n",
       "      <td>Female</td>\n",
       "      <td>11</td>\n",
       "      <td>100</td>\n",
       "      <td>56</td>\n",
       "      <td>167</td>\n",
       "    </tr>\n",
       "  </tbody>\n",
       "</table>\n",
       "</div>"
      ],
      "text/plain": [
       "             Name  Gender  Marks1  Marks2  Marks3  TotalMarks\n",
       "Roll No                                                      \n",
       "1          Sithal  Female      61      29      90         180\n",
       "2          Ranjan    Male      88      33      47         168\n",
       "3          Shaaru  Female      89      44      78         211\n",
       "4           Varun    Male      68      45      23         136\n",
       "5           Rohan    Male      55      61      97         213\n",
       "6           Anika  Female      44      67      72         183\n",
       "7          Jaanki  Female      29      87      56         172\n",
       "8         Preetam    Male      85      99      73         257\n",
       "9        Kartabya    Male     100     100      95         295\n",
       "10         Tanuja  Female      11     100      56         167"
      ]
     },
     "execution_count": 11,
     "metadata": {},
     "output_type": "execute_result"
    }
   ],
   "source": [
    "df"
   ]
  },
  {
   "cell_type": "code",
   "execution_count": 12,
   "id": "2032cfac",
   "metadata": {},
   "outputs": [],
   "source": [
    "#Q3. Find the lowest marks in Marks1"
   ]
  },
  {
   "cell_type": "code",
   "execution_count": 13,
   "id": "3c3684c6",
   "metadata": {},
   "outputs": [
    {
     "name": "stdout",
     "output_type": "stream",
     "text": [
      "Lowest marks in Marks1 is = 11\n"
     ]
    }
   ],
   "source": [
    "print(\"Lowest marks in Marks1 is =\",min(df.Marks1))"
   ]
  },
  {
   "cell_type": "code",
   "execution_count": 14,
   "id": "a790f985",
   "metadata": {},
   "outputs": [],
   "source": [
    "#Q4. Find the Highest marks in Marks2"
   ]
  },
  {
   "cell_type": "code",
   "execution_count": 15,
   "id": "adee62b5",
   "metadata": {},
   "outputs": [
    {
     "name": "stdout",
     "output_type": "stream",
     "text": [
      "Highest marks in Marks2 is = 100\n"
     ]
    }
   ],
   "source": [
    "print(\"Highest marks in Marks2 is =\",max(df.Marks2))"
   ]
  },
  {
   "cell_type": "code",
   "execution_count": 16,
   "id": "4f298771",
   "metadata": {},
   "outputs": [],
   "source": [
    "#Q5. Find the average marks in Marks3"
   ]
  },
  {
   "cell_type": "code",
   "execution_count": 17,
   "id": "cf7c847e",
   "metadata": {},
   "outputs": [
    {
     "name": "stdout",
     "output_type": "stream",
     "text": [
      "Average marks in Marks3 is = 68.7\n"
     ]
    }
   ],
   "source": [
    "print(\"Average marks in Marks3 is =\",(df.Marks3).mean())"
   ]
  },
  {
   "cell_type": "code",
   "execution_count": 18,
   "id": "8b5f15b0",
   "metadata": {},
   "outputs": [],
   "source": [
    "#Q6. Find student name with highest average"
   ]
  },
  {
   "cell_type": "code",
   "execution_count": 19,
   "id": "f2e1df6f",
   "metadata": {},
   "outputs": [
    {
     "name": "stdout",
     "output_type": "stream",
     "text": [
      "Student with highest average is \n",
      "Roll No\n",
      "9    Kartabya\n",
      "Name: Name, dtype: object\n"
     ]
    }
   ],
   "source": [
    "topper_student=df[df['TotalMarks']==df['TotalMarks'].max()]\n",
    "print(\"Student with highest average is \\n\"+str(topper_student['Name']))"
   ]
  },
  {
   "cell_type": "code",
   "execution_count": 20,
   "id": "c9bb5e93",
   "metadata": {},
   "outputs": [],
   "source": [
    "#Q7. Find how many students failed in Marks2 (<40)"
   ]
  },
  {
   "cell_type": "code",
   "execution_count": 21,
   "id": "77a96a85",
   "metadata": {},
   "outputs": [
    {
     "name": "stdout",
     "output_type": "stream",
     "text": [
      "Number of students failed in Marks2 is: 2\n"
     ]
    }
   ],
   "source": [
    "StudentsFailed = df[df['Marks2']<40]\n",
    "print(\"Number of students failed in Marks2 is:\", StudentsFailed.shape[0])"
   ]
  }
 ],
 "metadata": {
  "kernelspec": {
   "display_name": "Python 3 (ipykernel)",
   "language": "python",
   "name": "python3"
  },
  "language_info": {
   "codemirror_mode": {
    "name": "ipython",
    "version": 3
   },
   "file_extension": ".py",
   "mimetype": "text/x-python",
   "name": "python",
   "nbconvert_exporter": "python",
   "pygments_lexer": "ipython3",
   "version": "3.9.12"
  }
 },
 "nbformat": 4,
 "nbformat_minor": 5
}

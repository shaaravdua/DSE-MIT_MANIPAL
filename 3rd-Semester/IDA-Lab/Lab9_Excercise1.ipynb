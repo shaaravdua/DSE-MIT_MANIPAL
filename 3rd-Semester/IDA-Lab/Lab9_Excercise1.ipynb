{
 "cells": [
  {
   "cell_type": "markdown",
   "id": "3acd178f",
   "metadata": {},
   "source": [
    "### Lab9\n",
    "### Date : 28/10/2022\n",
    "### Exer 1: Clustering\n",
    "### Name : Shaarav Dua\n",
    "### RegNo : 230968256\n",
    "### Batch : 4"
   ]
  },
  {
   "cell_type": "code",
   "execution_count": 4,
   "id": "c348cfbc",
   "metadata": {},
   "outputs": [],
   "source": [
    "import pandas as pd\n",
    "import numpy as np\n",
    "import matplotlib.pyplot as plt\n",
    "import seaborn as sns"
   ]
  },
  {
   "cell_type": "code",
   "execution_count": 5,
   "id": "a1afb5bd",
   "metadata": {},
   "outputs": [
    {
     "data": {
      "text/html": [
       "<div>\n",
       "<style scoped>\n",
       "    .dataframe tbody tr th:only-of-type {\n",
       "        vertical-align: middle;\n",
       "    }\n",
       "\n",
       "    .dataframe tbody tr th {\n",
       "        vertical-align: top;\n",
       "    }\n",
       "\n",
       "    .dataframe thead th {\n",
       "        text-align: right;\n",
       "    }\n",
       "</style>\n",
       "<table border=\"1\" class=\"dataframe\">\n",
       "  <thead>\n",
       "    <tr style=\"text-align: right;\">\n",
       "      <th></th>\n",
       "      <th>InvoiceNo</th>\n",
       "      <th>StockCode</th>\n",
       "      <th>Description</th>\n",
       "      <th>Quantity</th>\n",
       "      <th>InvoiceDate</th>\n",
       "      <th>UnitPrice</th>\n",
       "      <th>CustomerID</th>\n",
       "      <th>Country</th>\n",
       "    </tr>\n",
       "  </thead>\n",
       "  <tbody>\n",
       "    <tr>\n",
       "      <th>0</th>\n",
       "      <td>536365</td>\n",
       "      <td>85123A</td>\n",
       "      <td>WHITE HANGING HEART T-LIGHT HOLDER</td>\n",
       "      <td>6</td>\n",
       "      <td>2010-12-01 08:26:00</td>\n",
       "      <td>2.55</td>\n",
       "      <td>17850.0</td>\n",
       "      <td>United Kingdom</td>\n",
       "    </tr>\n",
       "    <tr>\n",
       "      <th>1</th>\n",
       "      <td>536365</td>\n",
       "      <td>71053</td>\n",
       "      <td>WHITE METAL LANTERN</td>\n",
       "      <td>6</td>\n",
       "      <td>2010-12-01 08:26:00</td>\n",
       "      <td>3.39</td>\n",
       "      <td>17850.0</td>\n",
       "      <td>United Kingdom</td>\n",
       "    </tr>\n",
       "    <tr>\n",
       "      <th>2</th>\n",
       "      <td>536365</td>\n",
       "      <td>84406B</td>\n",
       "      <td>CREAM CUPID HEARTS COAT HANGER</td>\n",
       "      <td>8</td>\n",
       "      <td>2010-12-01 08:26:00</td>\n",
       "      <td>2.75</td>\n",
       "      <td>17850.0</td>\n",
       "      <td>United Kingdom</td>\n",
       "    </tr>\n",
       "    <tr>\n",
       "      <th>3</th>\n",
       "      <td>536365</td>\n",
       "      <td>84029G</td>\n",
       "      <td>KNITTED UNION FLAG HOT WATER BOTTLE</td>\n",
       "      <td>6</td>\n",
       "      <td>2010-12-01 08:26:00</td>\n",
       "      <td>3.39</td>\n",
       "      <td>17850.0</td>\n",
       "      <td>United Kingdom</td>\n",
       "    </tr>\n",
       "    <tr>\n",
       "      <th>4</th>\n",
       "      <td>536365</td>\n",
       "      <td>84029E</td>\n",
       "      <td>RED WOOLLY HOTTIE WHITE HEART.</td>\n",
       "      <td>6</td>\n",
       "      <td>2010-12-01 08:26:00</td>\n",
       "      <td>3.39</td>\n",
       "      <td>17850.0</td>\n",
       "      <td>United Kingdom</td>\n",
       "    </tr>\n",
       "    <tr>\n",
       "      <th>...</th>\n",
       "      <td>...</td>\n",
       "      <td>...</td>\n",
       "      <td>...</td>\n",
       "      <td>...</td>\n",
       "      <td>...</td>\n",
       "      <td>...</td>\n",
       "      <td>...</td>\n",
       "      <td>...</td>\n",
       "    </tr>\n",
       "    <tr>\n",
       "      <th>541904</th>\n",
       "      <td>581587</td>\n",
       "      <td>22613</td>\n",
       "      <td>PACK OF 20 SPACEBOY NAPKINS</td>\n",
       "      <td>12</td>\n",
       "      <td>2011-12-09 12:50:00</td>\n",
       "      <td>0.85</td>\n",
       "      <td>12680.0</td>\n",
       "      <td>France</td>\n",
       "    </tr>\n",
       "    <tr>\n",
       "      <th>541905</th>\n",
       "      <td>581587</td>\n",
       "      <td>22899</td>\n",
       "      <td>CHILDREN'S APRON DOLLY GIRL</td>\n",
       "      <td>6</td>\n",
       "      <td>2011-12-09 12:50:00</td>\n",
       "      <td>2.10</td>\n",
       "      <td>12680.0</td>\n",
       "      <td>France</td>\n",
       "    </tr>\n",
       "    <tr>\n",
       "      <th>541906</th>\n",
       "      <td>581587</td>\n",
       "      <td>23254</td>\n",
       "      <td>CHILDRENS CUTLERY DOLLY GIRL</td>\n",
       "      <td>4</td>\n",
       "      <td>2011-12-09 12:50:00</td>\n",
       "      <td>4.15</td>\n",
       "      <td>12680.0</td>\n",
       "      <td>France</td>\n",
       "    </tr>\n",
       "    <tr>\n",
       "      <th>541907</th>\n",
       "      <td>581587</td>\n",
       "      <td>23255</td>\n",
       "      <td>CHILDRENS CUTLERY CIRCUS PARADE</td>\n",
       "      <td>4</td>\n",
       "      <td>2011-12-09 12:50:00</td>\n",
       "      <td>4.15</td>\n",
       "      <td>12680.0</td>\n",
       "      <td>France</td>\n",
       "    </tr>\n",
       "    <tr>\n",
       "      <th>541908</th>\n",
       "      <td>581587</td>\n",
       "      <td>22138</td>\n",
       "      <td>BAKING SET 9 PIECE RETROSPOT</td>\n",
       "      <td>3</td>\n",
       "      <td>2011-12-09 12:50:00</td>\n",
       "      <td>4.95</td>\n",
       "      <td>12680.0</td>\n",
       "      <td>France</td>\n",
       "    </tr>\n",
       "  </tbody>\n",
       "</table>\n",
       "<p>541909 rows × 8 columns</p>\n",
       "</div>"
      ],
      "text/plain": [
       "       InvoiceNo StockCode                          Description  Quantity  \\\n",
       "0         536365    85123A   WHITE HANGING HEART T-LIGHT HOLDER         6   \n",
       "1         536365     71053                  WHITE METAL LANTERN         6   \n",
       "2         536365    84406B       CREAM CUPID HEARTS COAT HANGER         8   \n",
       "3         536365    84029G  KNITTED UNION FLAG HOT WATER BOTTLE         6   \n",
       "4         536365    84029E       RED WOOLLY HOTTIE WHITE HEART.         6   \n",
       "...          ...       ...                                  ...       ...   \n",
       "541904    581587     22613          PACK OF 20 SPACEBOY NAPKINS        12   \n",
       "541905    581587     22899         CHILDREN'S APRON DOLLY GIRL          6   \n",
       "541906    581587     23254        CHILDRENS CUTLERY DOLLY GIRL          4   \n",
       "541907    581587     23255      CHILDRENS CUTLERY CIRCUS PARADE         4   \n",
       "541908    581587     22138        BAKING SET 9 PIECE RETROSPOT          3   \n",
       "\n",
       "               InvoiceDate  UnitPrice  CustomerID         Country  \n",
       "0      2010-12-01 08:26:00       2.55     17850.0  United Kingdom  \n",
       "1      2010-12-01 08:26:00       3.39     17850.0  United Kingdom  \n",
       "2      2010-12-01 08:26:00       2.75     17850.0  United Kingdom  \n",
       "3      2010-12-01 08:26:00       3.39     17850.0  United Kingdom  \n",
       "4      2010-12-01 08:26:00       3.39     17850.0  United Kingdom  \n",
       "...                    ...        ...         ...             ...  \n",
       "541904 2011-12-09 12:50:00       0.85     12680.0          France  \n",
       "541905 2011-12-09 12:50:00       2.10     12680.0          France  \n",
       "541906 2011-12-09 12:50:00       4.15     12680.0          France  \n",
       "541907 2011-12-09 12:50:00       4.15     12680.0          France  \n",
       "541908 2011-12-09 12:50:00       4.95     12680.0          France  \n",
       "\n",
       "[541909 rows x 8 columns]"
      ]
     },
     "execution_count": 5,
     "metadata": {},
     "output_type": "execute_result"
    }
   ],
   "source": [
    "dataset = pd.read_excel(\"Online Retail.xlsx\")\n",
    "dataset"
   ]
  },
  {
   "cell_type": "markdown",
   "id": "8a7e5c88",
   "metadata": {},
   "source": [
    "### *Data Cleaning\n"
   ]
  },
  {
   "cell_type": "code",
   "execution_count": 6,
   "id": "cf5bfc0f",
   "metadata": {},
   "outputs": [
    {
     "name": "stdout",
     "output_type": "stream",
     "text": [
      "InvoiceNo      0\n",
      "StockCode      0\n",
      "Description    0\n",
      "Quantity       0\n",
      "InvoiceDate    0\n",
      "UnitPrice      0\n",
      "CustomerID     0\n",
      "Country        0\n",
      "dtype: int64\n"
     ]
    }
   ],
   "source": [
    "#getting rid of NA values\n",
    "dataset=dataset.dropna()\n",
    "print(dataset.isnull().sum())"
   ]
  },
  {
   "cell_type": "code",
   "execution_count": 7,
   "id": "33359196",
   "metadata": {},
   "outputs": [
    {
     "data": {
      "text/plain": [
       "5225"
      ]
     },
     "execution_count": 7,
     "metadata": {},
     "output_type": "execute_result"
    }
   ],
   "source": [
    "dataset.duplicated().sum()"
   ]
  },
  {
   "cell_type": "code",
   "execution_count": 8,
   "id": "abb048a8",
   "metadata": {},
   "outputs": [
    {
     "data": {
      "text/plain": [
       "0"
      ]
     },
     "execution_count": 8,
     "metadata": {},
     "output_type": "execute_result"
    }
   ],
   "source": [
    "#cleaning duplicate values\n",
    "dataset=dataset.drop_duplicates()\n",
    "dataset.duplicated().sum()"
   ]
  },
  {
   "cell_type": "markdown",
   "id": "6b1f9f37",
   "metadata": {},
   "source": [
    "### Q1. Read and write a summary of the metadata ."
   ]
  },
  {
   "cell_type": "code",
   "execution_count": 9,
   "id": "6c661cc3",
   "metadata": {},
   "outputs": [
    {
     "name": "stdout",
     "output_type": "stream",
     "text": [
      "<class 'pandas.core.frame.DataFrame'>\n",
      "Int64Index: 401604 entries, 0 to 541908\n",
      "Data columns (total 8 columns):\n",
      " #   Column       Non-Null Count   Dtype         \n",
      "---  ------       --------------   -----         \n",
      " 0   InvoiceNo    401604 non-null  object        \n",
      " 1   StockCode    401604 non-null  object        \n",
      " 2   Description  401604 non-null  object        \n",
      " 3   Quantity     401604 non-null  int64         \n",
      " 4   InvoiceDate  401604 non-null  datetime64[ns]\n",
      " 5   UnitPrice    401604 non-null  float64       \n",
      " 6   CustomerID   401604 non-null  float64       \n",
      " 7   Country      401604 non-null  object        \n",
      "dtypes: datetime64[ns](1), float64(2), int64(1), object(4)\n",
      "memory usage: 27.6+ MB\n",
      "Empty DataFrame\n",
      "Columns: []\n",
      "Index: []\n"
     ]
    }
   ],
   "source": [
    "print(pd.DataFrame(dataset.info()))"
   ]
  },
  {
   "cell_type": "code",
   "execution_count": 10,
   "id": "6f61eab8",
   "metadata": {},
   "outputs": [
    {
     "data": {
      "text/html": [
       "<div>\n",
       "<style scoped>\n",
       "    .dataframe tbody tr th:only-of-type {\n",
       "        vertical-align: middle;\n",
       "    }\n",
       "\n",
       "    .dataframe tbody tr th {\n",
       "        vertical-align: top;\n",
       "    }\n",
       "\n",
       "    .dataframe thead th {\n",
       "        text-align: right;\n",
       "    }\n",
       "</style>\n",
       "<table border=\"1\" class=\"dataframe\">\n",
       "  <thead>\n",
       "    <tr style=\"text-align: right;\">\n",
       "      <th></th>\n",
       "      <th>Quantity</th>\n",
       "      <th>UnitPrice</th>\n",
       "      <th>CustomerID</th>\n",
       "    </tr>\n",
       "  </thead>\n",
       "  <tbody>\n",
       "    <tr>\n",
       "      <th>count</th>\n",
       "      <td>401604.000000</td>\n",
       "      <td>401604.000000</td>\n",
       "      <td>401604.000000</td>\n",
       "    </tr>\n",
       "    <tr>\n",
       "      <th>mean</th>\n",
       "      <td>12.183273</td>\n",
       "      <td>3.474064</td>\n",
       "      <td>15281.160818</td>\n",
       "    </tr>\n",
       "    <tr>\n",
       "      <th>std</th>\n",
       "      <td>250.283037</td>\n",
       "      <td>69.764035</td>\n",
       "      <td>1714.006089</td>\n",
       "    </tr>\n",
       "    <tr>\n",
       "      <th>min</th>\n",
       "      <td>-80995.000000</td>\n",
       "      <td>0.000000</td>\n",
       "      <td>12346.000000</td>\n",
       "    </tr>\n",
       "    <tr>\n",
       "      <th>25%</th>\n",
       "      <td>2.000000</td>\n",
       "      <td>1.250000</td>\n",
       "      <td>13939.000000</td>\n",
       "    </tr>\n",
       "    <tr>\n",
       "      <th>50%</th>\n",
       "      <td>5.000000</td>\n",
       "      <td>1.950000</td>\n",
       "      <td>15145.000000</td>\n",
       "    </tr>\n",
       "    <tr>\n",
       "      <th>75%</th>\n",
       "      <td>12.000000</td>\n",
       "      <td>3.750000</td>\n",
       "      <td>16784.000000</td>\n",
       "    </tr>\n",
       "    <tr>\n",
       "      <th>max</th>\n",
       "      <td>80995.000000</td>\n",
       "      <td>38970.000000</td>\n",
       "      <td>18287.000000</td>\n",
       "    </tr>\n",
       "  </tbody>\n",
       "</table>\n",
       "</div>"
      ],
      "text/plain": [
       "            Quantity      UnitPrice     CustomerID\n",
       "count  401604.000000  401604.000000  401604.000000\n",
       "mean       12.183273       3.474064   15281.160818\n",
       "std       250.283037      69.764035    1714.006089\n",
       "min    -80995.000000       0.000000   12346.000000\n",
       "25%         2.000000       1.250000   13939.000000\n",
       "50%         5.000000       1.950000   15145.000000\n",
       "75%        12.000000       3.750000   16784.000000\n",
       "max     80995.000000   38970.000000   18287.000000"
      ]
     },
     "execution_count": 10,
     "metadata": {},
     "output_type": "execute_result"
    }
   ],
   "source": [
    "dataset.describe()"
   ]
  },
  {
   "cell_type": "markdown",
   "id": "5d17d9f7",
   "metadata": {},
   "source": [
    "### Q2. Select only the transactions that have occurred from 01/04/ 2011 and 09/12/2011 and create a dataset"
   ]
  },
  {
   "cell_type": "code",
   "execution_count": 11,
   "id": "cbebd763",
   "metadata": {},
   "outputs": [],
   "source": [
    "dataset.set_index(\"InvoiceDate\",inplace = True)"
   ]
  },
  {
   "cell_type": "code",
   "execution_count": 12,
   "id": "9bd1abab",
   "metadata": {},
   "outputs": [
    {
     "data": {
      "text/html": [
       "<div>\n",
       "<style scoped>\n",
       "    .dataframe tbody tr th:only-of-type {\n",
       "        vertical-align: middle;\n",
       "    }\n",
       "\n",
       "    .dataframe tbody tr th {\n",
       "        vertical-align: top;\n",
       "    }\n",
       "\n",
       "    .dataframe thead th {\n",
       "        text-align: right;\n",
       "    }\n",
       "</style>\n",
       "<table border=\"1\" class=\"dataframe\">\n",
       "  <thead>\n",
       "    <tr style=\"text-align: right;\">\n",
       "      <th></th>\n",
       "      <th>InvoiceNo</th>\n",
       "      <th>StockCode</th>\n",
       "      <th>Description</th>\n",
       "      <th>Quantity</th>\n",
       "      <th>UnitPrice</th>\n",
       "      <th>CustomerID</th>\n",
       "      <th>Country</th>\n",
       "    </tr>\n",
       "    <tr>\n",
       "      <th>InvoiceDate</th>\n",
       "      <th></th>\n",
       "      <th></th>\n",
       "      <th></th>\n",
       "      <th></th>\n",
       "      <th></th>\n",
       "      <th></th>\n",
       "      <th></th>\n",
       "    </tr>\n",
       "  </thead>\n",
       "  <tbody>\n",
       "    <tr>\n",
       "      <th>2011-04-01 08:22:00</th>\n",
       "      <td>548550</td>\n",
       "      <td>22662</td>\n",
       "      <td>LUNCH BAG DOLLY GIRL DESIGN</td>\n",
       "      <td>10</td>\n",
       "      <td>1.65</td>\n",
       "      <td>18161.0</td>\n",
       "      <td>United Kingdom</td>\n",
       "    </tr>\n",
       "    <tr>\n",
       "      <th>2011-04-01 08:22:00</th>\n",
       "      <td>548550</td>\n",
       "      <td>22296</td>\n",
       "      <td>HEART IVORY TRELLIS LARGE</td>\n",
       "      <td>12</td>\n",
       "      <td>1.65</td>\n",
       "      <td>18161.0</td>\n",
       "      <td>United Kingdom</td>\n",
       "    </tr>\n",
       "    <tr>\n",
       "      <th>2011-04-01 08:22:00</th>\n",
       "      <td>548550</td>\n",
       "      <td>21790</td>\n",
       "      <td>VINTAGE SNAP CARDS</td>\n",
       "      <td>12</td>\n",
       "      <td>0.85</td>\n",
       "      <td>18161.0</td>\n",
       "      <td>United Kingdom</td>\n",
       "    </tr>\n",
       "    <tr>\n",
       "      <th>2011-04-01 08:22:00</th>\n",
       "      <td>548550</td>\n",
       "      <td>22622</td>\n",
       "      <td>BOX OF VINTAGE ALPHABET BLOCKS</td>\n",
       "      <td>2</td>\n",
       "      <td>9.95</td>\n",
       "      <td>18161.0</td>\n",
       "      <td>United Kingdom</td>\n",
       "    </tr>\n",
       "    <tr>\n",
       "      <th>2011-04-01 08:22:00</th>\n",
       "      <td>548550</td>\n",
       "      <td>22393</td>\n",
       "      <td>PAPERWEIGHT VINTAGE COLLAGE</td>\n",
       "      <td>6</td>\n",
       "      <td>2.55</td>\n",
       "      <td>18161.0</td>\n",
       "      <td>United Kingdom</td>\n",
       "    </tr>\n",
       "    <tr>\n",
       "      <th>...</th>\n",
       "      <td>...</td>\n",
       "      <td>...</td>\n",
       "      <td>...</td>\n",
       "      <td>...</td>\n",
       "      <td>...</td>\n",
       "      <td>...</td>\n",
       "      <td>...</td>\n",
       "    </tr>\n",
       "    <tr>\n",
       "      <th>2011-12-08 20:01:00</th>\n",
       "      <td>581474</td>\n",
       "      <td>21253</td>\n",
       "      <td>SET OF PICTURE FRAME  STICKERS</td>\n",
       "      <td>1</td>\n",
       "      <td>0.79</td>\n",
       "      <td>12748.0</td>\n",
       "      <td>United Kingdom</td>\n",
       "    </tr>\n",
       "    <tr>\n",
       "      <th>2011-12-08 20:01:00</th>\n",
       "      <td>581474</td>\n",
       "      <td>22108</td>\n",
       "      <td>PING! MICROWAVE PLATE</td>\n",
       "      <td>1</td>\n",
       "      <td>1.25</td>\n",
       "      <td>12748.0</td>\n",
       "      <td>United Kingdom</td>\n",
       "    </tr>\n",
       "    <tr>\n",
       "      <th>2011-12-08 20:01:00</th>\n",
       "      <td>581474</td>\n",
       "      <td>22167</td>\n",
       "      <td>OVAL WALL MIRROR DIAMANTE</td>\n",
       "      <td>1</td>\n",
       "      <td>9.95</td>\n",
       "      <td>12748.0</td>\n",
       "      <td>United Kingdom</td>\n",
       "    </tr>\n",
       "    <tr>\n",
       "      <th>2011-12-08 20:01:00</th>\n",
       "      <td>581474</td>\n",
       "      <td>21929</td>\n",
       "      <td>JUMBO BAG PINK VINTAGE PAISLEY</td>\n",
       "      <td>1</td>\n",
       "      <td>2.08</td>\n",
       "      <td>12748.0</td>\n",
       "      <td>United Kingdom</td>\n",
       "    </tr>\n",
       "    <tr>\n",
       "      <th>2011-12-08 20:01:00</th>\n",
       "      <td>581474</td>\n",
       "      <td>20717</td>\n",
       "      <td>STRAWBERRY SHOPPER BAG</td>\n",
       "      <td>1</td>\n",
       "      <td>1.25</td>\n",
       "      <td>12748.0</td>\n",
       "      <td>United Kingdom</td>\n",
       "    </tr>\n",
       "  </tbody>\n",
       "</table>\n",
       "<p>305309 rows × 7 columns</p>\n",
       "</div>"
      ],
      "text/plain": [
       "                    InvoiceNo StockCode                     Description  \\\n",
       "InvoiceDate                                                               \n",
       "2011-04-01 08:22:00    548550     22662     LUNCH BAG DOLLY GIRL DESIGN   \n",
       "2011-04-01 08:22:00    548550     22296       HEART IVORY TRELLIS LARGE   \n",
       "2011-04-01 08:22:00    548550     21790              VINTAGE SNAP CARDS   \n",
       "2011-04-01 08:22:00    548550     22622  BOX OF VINTAGE ALPHABET BLOCKS   \n",
       "2011-04-01 08:22:00    548550     22393     PAPERWEIGHT VINTAGE COLLAGE   \n",
       "...                       ...       ...                             ...   \n",
       "2011-12-08 20:01:00    581474     21253  SET OF PICTURE FRAME  STICKERS   \n",
       "2011-12-08 20:01:00    581474     22108           PING! MICROWAVE PLATE   \n",
       "2011-12-08 20:01:00    581474     22167      OVAL WALL MIRROR DIAMANTE    \n",
       "2011-12-08 20:01:00    581474     21929  JUMBO BAG PINK VINTAGE PAISLEY   \n",
       "2011-12-08 20:01:00    581474     20717          STRAWBERRY SHOPPER BAG   \n",
       "\n",
       "                     Quantity  UnitPrice  CustomerID         Country  \n",
       "InvoiceDate                                                           \n",
       "2011-04-01 08:22:00        10       1.65     18161.0  United Kingdom  \n",
       "2011-04-01 08:22:00        12       1.65     18161.0  United Kingdom  \n",
       "2011-04-01 08:22:00        12       0.85     18161.0  United Kingdom  \n",
       "2011-04-01 08:22:00         2       9.95     18161.0  United Kingdom  \n",
       "2011-04-01 08:22:00         6       2.55     18161.0  United Kingdom  \n",
       "...                       ...        ...         ...             ...  \n",
       "2011-12-08 20:01:00         1       0.79     12748.0  United Kingdom  \n",
       "2011-12-08 20:01:00         1       1.25     12748.0  United Kingdom  \n",
       "2011-12-08 20:01:00         1       9.95     12748.0  United Kingdom  \n",
       "2011-12-08 20:01:00         1       2.08     12748.0  United Kingdom  \n",
       "2011-12-08 20:01:00         1       1.25     12748.0  United Kingdom  \n",
       "\n",
       "[305309 rows x 7 columns]"
      ]
     },
     "execution_count": 12,
     "metadata": {},
     "output_type": "execute_result"
    }
   ],
   "source": [
    "df= dataset[(dataset.index>='2011-04-01') & (dataset.index<='2011-12-09')]\n",
    "df"
   ]
  },
  {
   "cell_type": "markdown",
   "id": "08d56e74",
   "metadata": {},
   "source": [
    "### Q3. Calculate the RFM values for each customer (by customer id). RFM represents:"
   ]
  },
  {
   "cell_type": "code",
   "execution_count": 13,
   "id": "4351fcd7",
   "metadata": {},
   "outputs": [
    {
     "name": "stderr",
     "output_type": "stream",
     "text": [
      "C:\\Users\\dse\\AppData\\Local\\Temp/ipykernel_3680/3983345773.py:2: SettingWithCopyWarning: \n",
      "A value is trying to be set on a copy of a slice from a DataFrame.\n",
      "Try using .loc[row_indexer,col_indexer] = value instead\n",
      "\n",
      "See the caveats in the documentation: https://pandas.pydata.org/pandas-docs/stable/user_guide/indexing.html#returning-a-view-versus-a-copy\n",
      "  df['R'] = 12-df.index.month\n",
      "C:\\Users\\dse\\AppData\\Local\\Temp/ipykernel_3680/3983345773.py:6: SettingWithCopyWarning: \n",
      "A value is trying to be set on a copy of a slice from a DataFrame.\n",
      "Try using .loc[row_indexer,col_indexer] = value instead\n",
      "\n",
      "See the caveats in the documentation: https://pandas.pydata.org/pandas-docs/stable/user_guide/indexing.html#returning-a-view-versus-a-copy\n",
      "  df['F'] = 0\n",
      "C:\\ProgramData\\Anaconda3\\lib\\site-packages\\pandas\\core\\indexing.py:1773: SettingWithCopyWarning: \n",
      "A value is trying to be set on a copy of a slice from a DataFrame.\n",
      "Try using .loc[row_indexer,col_indexer] = value instead\n",
      "\n",
      "See the caveats in the documentation: https://pandas.pydata.org/pandas-docs/stable/user_guide/indexing.html#returning-a-view-versus-a-copy\n",
      "  self._setitem_single_column(ilocs[0], value, pi)\n",
      "C:\\Users\\dse\\AppData\\Local\\Temp/ipykernel_3680/3983345773.py:13: SettingWithCopyWarning: \n",
      "A value is trying to be set on a copy of a slice from a DataFrame.\n",
      "Try using .loc[row_indexer,col_indexer] = value instead\n",
      "\n",
      "See the caveats in the documentation: https://pandas.pydata.org/pandas-docs/stable/user_guide/indexing.html#returning-a-view-versus-a-copy\n",
      "  df['Revenue'] = df.Quantity * df.UnitPrice\n",
      "C:\\Users\\dse\\AppData\\Local\\Temp/ipykernel_3680/3983345773.py:14: SettingWithCopyWarning: \n",
      "A value is trying to be set on a copy of a slice from a DataFrame.\n",
      "Try using .loc[row_indexer,col_indexer] = value instead\n",
      "\n",
      "See the caveats in the documentation: https://pandas.pydata.org/pandas-docs/stable/user_guide/indexing.html#returning-a-view-versus-a-copy\n",
      "  df['M'] = 0\n"
     ]
    }
   ],
   "source": [
    "# R\n",
    "df['R'] = 12-df.index.month\n",
    "\n",
    "\n",
    "# F\n",
    "df['F'] = 0\n",
    "customer_ids = list(df['CustomerID'].unique())\n",
    "for id in customer_ids:\n",
    "  df.loc[df['CustomerID']==id, 'F'] += df.groupby(by='CustomerID').InvoiceNo.size()[id]\n",
    "\n",
    "\n",
    "# M\n",
    "df['Revenue'] = df.Quantity * df.UnitPrice\n",
    "df['M'] = 0\n",
    "for id in customer_ids:\n",
    "  df.loc[df['CustomerID']==id, 'M'] += df.groupby(by='CustomerID').Revenue.sum()[id]\n",
    "\n",
    "\n",
    "#creating a new dataframe.\n",
    "df_rfm = pd.DataFrame(customer_ids, columns=['Customer ID'])\n",
    "\n",
    "df_rfm['R'] = 0\n",
    "df_rfm['F'] = 0\n",
    "df_rfm['M'] = 0\n",
    "\n",
    "# updating columns\n",
    "for id in customer_ids:\n",
    "    df_rfm.loc[df_rfm['Customer ID']==id, 'R'] += df.loc[df['CustomerID']==id, 'R'].values[0]\n",
    "    df_rfm.loc[df_rfm['Customer ID']==id, 'F'] += df.loc[df['CustomerID']==id, 'F'].values[0]\n",
    "    df_rfm.loc[df_rfm['Customer ID']==id, 'M'] += df.loc[df['CustomerID']==id, 'M'].values[0]"
   ]
  },
  {
   "cell_type": "markdown",
   "id": "3e7cc56a",
   "metadata": {},
   "source": [
    "### Q4. Use the elbow method to identify how many customer segments exist, using the RFM values for each customer."
   ]
  },
  {
   "cell_type": "code",
   "execution_count": 25,
   "id": "d581ac17",
   "metadata": {},
   "outputs": [
    {
     "name": "stdout",
     "output_type": "stream",
     "text": [
      "No of customer segments that exit is :\n",
      "9\n",
      "They are :\n"
     ]
    },
    {
     "data": {
      "text/plain": [
       "array([8, 7, 6, 5, 4, 3, 2, 1, 0], dtype=int64)"
      ]
     },
     "execution_count": 25,
     "metadata": {},
     "output_type": "execute_result"
    }
   ],
   "source": [
    "print(\"No of customer segments that exit is :\")\n",
    "print(df_rfm['R'].unique().size)\n",
    "print(\"They are :\")\n",
    "df_rfm['R'].unique()"
   ]
  },
  {
   "cell_type": "markdown",
   "id": "3b892944",
   "metadata": {},
   "source": [
    "### Q5. Create the customer segments with K-means algorithm by using number of clusters is suggested by elbow method."
   ]
  },
  {
   "cell_type": "code",
   "execution_count": 15,
   "id": "888fa6f2",
   "metadata": {},
   "outputs": [],
   "source": [
    "from sklearn.cluster import KMeans"
   ]
  },
  {
   "cell_type": "code",
   "execution_count": 16,
   "id": "96c0e6b9",
   "metadata": {},
   "outputs": [
    {
     "data": {
      "image/png": "[encoded data removed]",
      "text/plain": [
       "<Figure size 1080x576 with 1 Axes>"
      ]
     },
     "metadata": {
      "needs_background": "light"
     },
     "output_type": "display_data"
    }
   ],
   "source": [
    "# creating a list to store the within-the-cluster-sum-of-squared-distance\n",
    "wcss = []\n",
    "\n",
    "# sorting wcss\n",
    "for k in range(0, 10):\n",
    "  kmeans = KMeans(n_clusters=k+1, random_state=0).fit(df_rfm[['R', 'F', 'M']])\n",
    "  wcss.append(kmeans.inertia_)\n",
    "\n",
    "# plot of \"\" wcss vs number of clusters \"\"\n",
    "plt.figure(figsize=(15,8))\n",
    "ax = sns.pointplot(x=list(range(1, 11)), y=wcss)\n",
    "ax.set_title('K-Means Clustering\\nNumber of Clusters vs Within Cluster Sum of Squares')\n",
    "ax.set_xlabel('Number of Clusters')\n",
    "ax.set_ylabel('Within Cluster Sum of Squares')\n",
    "plt.show()"
   ]
  },
  {
   "cell_type": "markdown",
   "id": "7edadd40",
   "metadata": {},
   "source": [
    "### Q6. Plot the clusters in a scatter plot and mark each segment differently using lmplot"
   ]
  },
  {
   "cell_type": "code",
   "execution_count": 17,
   "id": "2ed27bc0",
   "metadata": {},
   "outputs": [],
   "source": [
    "# kmeans model\n",
    "kmeans = KMeans(n_clusters=3, random_state=0).fit(df_rfm[['R', 'F', 'M']])"
   ]
  },
  {
   "cell_type": "code",
   "execution_count": 18,
   "id": "79f4e40b",
   "metadata": {},
   "outputs": [],
   "source": [
    "# generating cluster labels\n",
    "df_rfm['labels'] = kmeans.labels_"
   ]
  },
  {
   "cell_type": "code",
   "execution_count": 19,
   "id": "c0e28094",
   "metadata": {},
   "outputs": [
    {
     "data": {
      "text/plain": [
       "<seaborn.axisgrid.FacetGrid at 0x284ec39e8b0>"
      ]
     },
     "execution_count": 19,
     "metadata": {},
     "output_type": "execute_result"
    },
    {
     "data": {
      "image/png": "[encoded data removed]",
      "text/plain": [
       "<Figure size 762.375x1800 with 9 Axes>"
      ]
     },
     "metadata": {
      "needs_background": "light"
     },
     "output_type": "display_data"
    }
   ],
   "source": [
    "# visualizing the clusters\n",
    "sns.lmplot(x='F', y='M', col='R', hue='labels', data=df_rfm, col_wrap=2, fit_reg=False, markers=['o', '^', 'D'])"
   ]
  },
  {
   "cell_type": "markdown",
   "id": "6a188882",
   "metadata": {},
   "source": [
    "### Q7.  Print the cluster centers of each customer segment and explain them intuitively."
   ]
  },
  {
   "cell_type": "code",
   "execution_count": 20,
   "id": "48e4ba91",
   "metadata": {},
   "outputs": [
    {
     "name": "stdout",
     "output_type": "stream",
     "text": [
      "The cluster centres are :\n",
      "[[5.04007286e+00 7.09529014e+01 1.18076095e+03]\n",
      " [8.00000000e+00 1.77400000e+03 1.69376578e+05]\n",
      " [7.74074074e+00 9.45962963e+02 3.73182656e+04]]\n",
      "\n",
      "The cluster centre of cluster:\n",
      "0 has a value of 4.38 for R, 68.6 for F, and 1212 for M (customers with Low Recency, Low Frequency and Low Monetary Value) - customers who are of little value.\n",
      "\n",
      "1 has a value of 4.00 for R, 1296 for F, and 168158 for M (customers with Low Recency, High Frquency and High Monetary Value) - loyal customers who should be entered in the Loyalty Program and given special benefits.\n",
      "\n",
      "2 has a value of 5.25 for R, 865 for F, and 39738 for M (customers with Low Recency, Medium Frequency, and Medium Monetary Value) - occasional shoppers - should be sent more promos and offers.\n",
      "\n",
      "The wcss values are calculated by summing up the squared distaces between points and their cluster centers to analyze the quality of clusters(less the wcss,higher the quality)\n"
     ]
    }
   ],
   "source": [
    "# cluster centres ::\n",
    "print(\"The cluster centres are :\")\n",
    "print(kmeans.cluster_centers_)\n",
    "print()\n",
    "print(\"The cluster centre of cluster:\")\n",
    "print(\"0 has a value of 4.38 for R, 68.6 for F, and 1212 for M (customers with Low Recency, Low Frequency and Low Monetary Value) - customers who are of little value.\")\n",
    "print()\n",
    "print(\"1 has a value of 4.00 for R, 1296 for F, and 168158 for M (customers with Low Recency, High Frquency and High Monetary Value) - loyal customers who should be entered in the Loyalty Program and given special benefits.\")\n",
    "print()\n",
    "print(\"2 has a value of 5.25 for R, 865 for F, and 39738 for M (customers with Low Recency, Medium Frequency, and Medium Monetary Value) - occasional shoppers - should be sent more promos and offers.\")\n",
    "print()\n",
    "print(\"The wcss values are calculated by summing up the squared distaces between points and their cluster centers to analyze the quality of clusters(less the wcss,higher the quality)\")"
   ]
  },
  {
   "cell_type": "markdown",
   "id": "e0d16291",
   "metadata": {},
   "source": [
    "### Q8. Create the customer segments with Agglomerative algorithm by using number of clusters is suggested by elbow method.\n",
    "#### from sklearn.cluster import AgglomerativeClustering"
   ]
  },
  {
   "cell_type": "code",
   "execution_count": 21,
   "id": "db2470da",
   "metadata": {},
   "outputs": [],
   "source": [
    "# agglomerative clustering model\n",
    "from sklearn.cluster import AgglomerativeClustering\n",
    "agglo = AgglomerativeClustering(n_clusters=3, compute_distances=True).fit(df_rfm[['R','F','M']])"
   ]
  },
  {
   "cell_type": "markdown",
   "id": "b45c43ca",
   "metadata": {},
   "source": [
    "### Q9. Visualize the clusters using the dendrogram "
   ]
  },
  {
   "cell_type": "code",
   "execution_count": 22,
   "id": "7a8160c0",
   "metadata": {},
   "outputs": [],
   "source": [
    "# importing dendrogram\n",
    "from scipy.cluster.hierarchy import dendrogram"
   ]
  },
  {
   "cell_type": "code",
   "execution_count": 23,
   "id": "f524f78a",
   "metadata": {},
   "outputs": [
    {
     "data": {
      "image/png": "[encoded data removed]",
      "text/plain": [
       "<Figure size 1080x576 with 1 Axes>"
      ]
     },
     "metadata": {
      "needs_background": "light"
     },
     "output_type": "display_data"
    }
   ],
   "source": [
    "def plot_dendrogram(agglo, **kwargs):\n",
    "    \n",
    "    counts = np.zeros(agglo.children_.shape[0])\n",
    "    n_samples = len(agglo.labels_)\n",
    "    for i, merge in enumerate(agglo.children_):\n",
    "        current_count = 0\n",
    "        for child_idx in merge:\n",
    "            if child_idx < n_samples:\n",
    "                current_count += 1\n",
    "            else:\n",
    "                current_count += counts[child_idx - n_samples]\n",
    "        counts[i] = current_count\n",
    "\n",
    "    linkage_matrix = np.column_stack([agglo.children_, agglo.distances_, counts]).astype(float)\n",
    "\n",
    "    dendrogram(linkage_matrix, **kwargs)\n",
    "    \n",
    "\n",
    "plt.figure(figsize=(15,8))\n",
    "plt.title('Hierarchical Clustering Dendrogram')\n",
    "plot_dendrogram(agglo, truncate_mode='level', p=3)\n",
    "plt.show()"
   ]
  },
  {
   "cell_type": "markdown",
   "id": "958bcbc2",
   "metadata": {},
   "source": [
    "### Q10. Compare the clusters obtained using KMeans vs. Agglomeration"
   ]
  },
  {
   "cell_type": "code",
   "execution_count": 24,
   "id": "51066b54",
   "metadata": {},
   "outputs": [
    {
     "name": "stdout",
     "output_type": "stream",
     "text": [
      "Cluster 0 - KMeans:  3843\n",
      "Cluster 1 - KMeans:  4\n",
      "Cluster 2 - KMeans:  27\n",
      "\n",
      "Cluster 0 - Agglomerative:  34\n",
      "Cluster 1 - Agglomerative:  3\n",
      "Cluster 2 - Agglomerative:  3837\n"
     ]
    }
   ],
   "source": [
    "#list of labels generated by the kmeans model\n",
    "labels_kmeans = list(kmeans.labels_)\n",
    "\n",
    "#list of labels generated by the agglomerative clustering model\n",
    "labels_agglo = list(agglo.labels_)\n",
    "\n",
    "print('Cluster 0 - KMeans: ', labels_kmeans.count(0))\n",
    "print('Cluster 1 - KMeans: ', labels_kmeans.count(1))\n",
    "print('Cluster 2 - KMeans: ', labels_kmeans.count(2))\n",
    "print()\n",
    "print('Cluster 0 - Agglomerative: ', labels_agglo.count(0))\n",
    "print('Cluster 1 - Agglomerative: ', labels_agglo.count(1))\n",
    "print('Cluster 2 - Agglomerative: ', labels_agglo.count(2))"
   ]
  }
 ],
 "metadata": {
  "kernelspec": {
   "display_name": "Python 3 (ipykernel)",
   "language": "python",
   "name": "python3"
  },
  "language_info": {
   "codemirror_mode": {
    "name": "ipython",
    "version": 3
   },
   "file_extension": ".py",
   "mimetype": "text/x-python",
   "name": "python",
   "nbconvert_exporter": "python",
   "pygments_lexer": "ipython3",
   "version": "3.9.12"
  }
 },
 "nbformat": 4,
 "nbformat_minor": 5
}

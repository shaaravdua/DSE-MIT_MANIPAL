{
 "cells": [
  {
   "cell_type": "markdown",
   "id": "eef99eee",
   "metadata": {},
   "source": [
    "### Lab3 \n",
    "### EXERCISE 1 : Perform data analysis and visualization on the movies.csv data set and answer the given questions.\n",
    "### DATE : 09-09-2022\n",
    "### Name : Shaarav Dua\n",
    "### RegNo : 230968256\n",
    "### Batch : 4"
   ]
  },
  {
   "cell_type": "code",
   "execution_count": 41,
   "id": "7472ff29",
   "metadata": {},
   "outputs": [],
   "source": [
    "import pandas as pd\n",
    "import matplotlib.pyplot as plt\n",
    "import seaborn as sb\n",
    "from datetime import datetime as dt"
   ]
  },
  {
   "cell_type": "code",
   "execution_count": 42,
   "id": "88767d9d",
   "metadata": {},
   "outputs": [],
   "source": [
    "df = pd.read_csv(\"bollywood.csv\")"
   ]
  },
  {
   "cell_type": "code",
   "execution_count": 43,
   "id": "6675b08e",
   "metadata": {},
   "outputs": [
    {
     "data": {
      "text/html": [
       "<div>\n",
       "<style scoped>\n",
       "    .dataframe tbody tr th:only-of-type {\n",
       "        vertical-align: middle;\n",
       "    }\n",
       "\n",
       "    .dataframe tbody tr th {\n",
       "        vertical-align: top;\n",
       "    }\n",
       "\n",
       "    .dataframe thead th {\n",
       "        text-align: right;\n",
       "    }\n",
       "</style>\n",
       "<table border=\"1\" class=\"dataframe\">\n",
       "  <thead>\n",
       "    <tr style=\"text-align: right;\">\n",
       "      <th></th>\n",
       "      <th>Release Date</th>\n",
       "      <th>MovieName</th>\n",
       "      <th>ReleaseTime</th>\n",
       "      <th>Genre</th>\n",
       "      <th>Budget</th>\n",
       "      <th>BoxOfficeCollection</th>\n",
       "      <th>YoutubeViews</th>\n",
       "      <th>YoutubeLikes</th>\n",
       "      <th>YoutubeDislikes</th>\n",
       "    </tr>\n",
       "    <tr>\n",
       "      <th>SlNo</th>\n",
       "      <th></th>\n",
       "      <th></th>\n",
       "      <th></th>\n",
       "      <th></th>\n",
       "      <th></th>\n",
       "      <th></th>\n",
       "      <th></th>\n",
       "      <th></th>\n",
       "      <th></th>\n",
       "    </tr>\n",
       "  </thead>\n",
       "  <tbody>\n",
       "    <tr>\n",
       "      <th>1</th>\n",
       "      <td>18-Apr-14</td>\n",
       "      <td>2 States</td>\n",
       "      <td>LW</td>\n",
       "      <td>Romance</td>\n",
       "      <td>36</td>\n",
       "      <td>104.00</td>\n",
       "      <td>8576361</td>\n",
       "      <td>26622</td>\n",
       "      <td>2527</td>\n",
       "    </tr>\n",
       "    <tr>\n",
       "      <th>2</th>\n",
       "      <td>4-Jan-13</td>\n",
       "      <td>Table No. 21</td>\n",
       "      <td>N</td>\n",
       "      <td>Thriller</td>\n",
       "      <td>10</td>\n",
       "      <td>12.00</td>\n",
       "      <td>1087320</td>\n",
       "      <td>1129</td>\n",
       "      <td>137</td>\n",
       "    </tr>\n",
       "    <tr>\n",
       "      <th>3</th>\n",
       "      <td>18-Jul-14</td>\n",
       "      <td>Amit Sahni Ki List</td>\n",
       "      <td>N</td>\n",
       "      <td>Comedy</td>\n",
       "      <td>10</td>\n",
       "      <td>4.00</td>\n",
       "      <td>572336</td>\n",
       "      <td>586</td>\n",
       "      <td>54</td>\n",
       "    </tr>\n",
       "    <tr>\n",
       "      <th>4</th>\n",
       "      <td>4-Jan-13</td>\n",
       "      <td>Rajdhani Express</td>\n",
       "      <td>N</td>\n",
       "      <td>Drama</td>\n",
       "      <td>7</td>\n",
       "      <td>0.35</td>\n",
       "      <td>42626</td>\n",
       "      <td>86</td>\n",
       "      <td>19</td>\n",
       "    </tr>\n",
       "    <tr>\n",
       "      <th>5</th>\n",
       "      <td>4-Jul-14</td>\n",
       "      <td>Bobby Jasoos</td>\n",
       "      <td>N</td>\n",
       "      <td>Comedy</td>\n",
       "      <td>18</td>\n",
       "      <td>10.80</td>\n",
       "      <td>3113427</td>\n",
       "      <td>4512</td>\n",
       "      <td>1224</td>\n",
       "    </tr>\n",
       "    <tr>\n",
       "      <th>...</th>\n",
       "      <td>...</td>\n",
       "      <td>...</td>\n",
       "      <td>...</td>\n",
       "      <td>...</td>\n",
       "      <td>...</td>\n",
       "      <td>...</td>\n",
       "      <td>...</td>\n",
       "      <td>...</td>\n",
       "      <td>...</td>\n",
       "    </tr>\n",
       "    <tr>\n",
       "      <th>145</th>\n",
       "      <td>27-Feb-15</td>\n",
       "      <td>Dum Laga Ke Haisha</td>\n",
       "      <td>N</td>\n",
       "      <td>Comedy</td>\n",
       "      <td>15</td>\n",
       "      <td>30.00</td>\n",
       "      <td>3250917</td>\n",
       "      <td>8185</td>\n",
       "      <td>615</td>\n",
       "    </tr>\n",
       "    <tr>\n",
       "      <th>146</th>\n",
       "      <td>13-Mar-15</td>\n",
       "      <td>NH10</td>\n",
       "      <td>N</td>\n",
       "      <td>Thriller</td>\n",
       "      <td>13</td>\n",
       "      <td>32.10</td>\n",
       "      <td>5592977</td>\n",
       "      <td>15464</td>\n",
       "      <td>1513</td>\n",
       "    </tr>\n",
       "    <tr>\n",
       "      <th>147</th>\n",
       "      <td>20-Mar-15</td>\n",
       "      <td>Dilliwali Zaalim Girlfriend</td>\n",
       "      <td>N</td>\n",
       "      <td>Comedy</td>\n",
       "      <td>32</td>\n",
       "      <td>12.00</td>\n",
       "      <td>2316047</td>\n",
       "      <td>4289</td>\n",
       "      <td>807</td>\n",
       "    </tr>\n",
       "    <tr>\n",
       "      <th>148</th>\n",
       "      <td>20-Mar-15</td>\n",
       "      <td>Hunterrr</td>\n",
       "      <td>N</td>\n",
       "      <td>Comedy</td>\n",
       "      <td>5</td>\n",
       "      <td>11.89</td>\n",
       "      <td>4674795</td>\n",
       "      <td>3706</td>\n",
       "      <td>762</td>\n",
       "    </tr>\n",
       "    <tr>\n",
       "      <th>149</th>\n",
       "      <td>23-May-14</td>\n",
       "      <td>Kochadaiiyaan</td>\n",
       "      <td>HS</td>\n",
       "      <td>Action</td>\n",
       "      <td>150</td>\n",
       "      <td>120.00</td>\n",
       "      <td>4740727</td>\n",
       "      <td>13466</td>\n",
       "      <td>2649</td>\n",
       "    </tr>\n",
       "  </tbody>\n",
       "</table>\n",
       "<p>149 rows × 9 columns</p>\n",
       "</div>"
      ],
      "text/plain": [
       "     Release Date                    MovieName ReleaseTime      Genre  Budget  \\\n",
       "SlNo                                                                            \n",
       "1       18-Apr-14                     2 States          LW    Romance      36   \n",
       "2        4-Jan-13                 Table No. 21           N  Thriller       10   \n",
       "3       18-Jul-14           Amit Sahni Ki List           N     Comedy      10   \n",
       "4        4-Jan-13             Rajdhani Express           N     Drama        7   \n",
       "5        4-Jul-14                 Bobby Jasoos           N     Comedy      18   \n",
       "...           ...                          ...         ...        ...     ...   \n",
       "145     27-Feb-15           Dum Laga Ke Haisha           N     Comedy      15   \n",
       "146     13-Mar-15                         NH10           N   Thriller      13   \n",
       "147     20-Mar-15  Dilliwali Zaalim Girlfriend           N     Comedy      32   \n",
       "148     20-Mar-15                     Hunterrr           N     Comedy       5   \n",
       "149     23-May-14                Kochadaiiyaan          HS     Action     150   \n",
       "\n",
       "      BoxOfficeCollection  YoutubeViews  YoutubeLikes  YoutubeDislikes  \n",
       "SlNo                                                                    \n",
       "1                  104.00       8576361         26622             2527  \n",
       "2                   12.00       1087320          1129              137  \n",
       "3                    4.00        572336           586               54  \n",
       "4                    0.35         42626            86               19  \n",
       "5                   10.80       3113427          4512             1224  \n",
       "...                   ...           ...           ...              ...  \n",
       "145                 30.00       3250917          8185              615  \n",
       "146                 32.10       5592977         15464             1513  \n",
       "147                 12.00       2316047          4289              807  \n",
       "148                 11.89       4674795          3706              762  \n",
       "149                120.00       4740727         13466             2649  \n",
       "\n",
       "[149 rows x 9 columns]"
      ]
     },
     "execution_count": 43,
     "metadata": {},
     "output_type": "execute_result"
    }
   ],
   "source": [
    "df.set_index(\"SlNo\", inplace = True)\n",
    "df"
   ]
  },
  {
   "cell_type": "markdown",
   "id": "49c5b038",
   "metadata": {},
   "source": [
    "###   Q1. How many records are present in the dataset?"
   ]
  },
  {
   "cell_type": "code",
   "execution_count": 45,
   "id": "f08b7c1b",
   "metadata": {},
   "outputs": [
    {
     "data": {
      "text/plain": [
       "149"
      ]
     },
     "execution_count": 45,
     "metadata": {},
     "output_type": "execute_result"
    }
   ],
   "source": [
    "df.shape[0]"
   ]
  },
  {
   "cell_type": "markdown",
   "id": "e8327513",
   "metadata": {},
   "source": [
    "### Q2. How many movies got released in each genre? Sort number of releases in each genre in descending order"
   ]
  },
  {
   "cell_type": "code",
   "execution_count": 47,
   "id": "d223cb64",
   "metadata": {},
   "outputs": [
    {
     "data": {
      "text/plain": [
       "Comedy      36\n",
       "Drama       35\n",
       "Thriller    29\n",
       "Romance     25\n",
       "Action      24\n",
       "Name: Genre, dtype: int64"
      ]
     },
     "execution_count": 47,
     "metadata": {},
     "output_type": "execute_result"
    }
   ],
   "source": [
    "df[\"Genre\"] = df[\"Genre\"].str.strip()\n",
    "df[\"Genre\"].value_counts()"
   ]
  },
  {
   "cell_type": "markdown",
   "id": "39d5640c",
   "metadata": {},
   "source": [
    "### Q3. Which genre had highest number of releases? "
   ]
  },
  {
   "cell_type": "code",
   "execution_count": 49,
   "id": "067ae5b7",
   "metadata": {},
   "outputs": [
    {
     "data": {
      "text/plain": [
       "'Comedy'"
      ]
     },
     "execution_count": 49,
     "metadata": {},
     "output_type": "execute_result"
    }
   ],
   "source": [
    "df[\"Genre\"] = df[\"Genre\"].str.strip()\n",
    "Best_Genre = df[\"Genre\"].value_counts()\n",
    "Best_Genre=df[\"Genre\"].value_counts().idxmax()\n",
    "Best_Genre"
   ]
  },
  {
   "cell_type": "markdown",
   "id": "87fbe095",
   "metadata": {},
   "source": [
    "### Q4. How many movies in each genre got released in different release times like long weekend, festive season, etc.   (Note: Do a cross tabulation between Genre and ReleaseTime.)"
   ]
  },
  {
   "cell_type": "code",
   "execution_count": 51,
   "id": "798dbe33",
   "metadata": {},
   "outputs": [
    {
     "data": {
      "text/html": [
       "<div>\n",
       "<style scoped>\n",
       "    .dataframe tbody tr th:only-of-type {\n",
       "        vertical-align: middle;\n",
       "    }\n",
       "\n",
       "    .dataframe tbody tr th {\n",
       "        vertical-align: top;\n",
       "    }\n",
       "\n",
       "    .dataframe thead th {\n",
       "        text-align: right;\n",
       "    }\n",
       "</style>\n",
       "<table border=\"1\" class=\"dataframe\">\n",
       "  <thead>\n",
       "    <tr style=\"text-align: right;\">\n",
       "      <th>ReleaseTime</th>\n",
       "      <th>FS</th>\n",
       "      <th>HS</th>\n",
       "      <th>LW</th>\n",
       "      <th>N</th>\n",
       "    </tr>\n",
       "    <tr>\n",
       "      <th>Genre</th>\n",
       "      <th></th>\n",
       "      <th></th>\n",
       "      <th></th>\n",
       "      <th></th>\n",
       "    </tr>\n",
       "  </thead>\n",
       "  <tbody>\n",
       "    <tr>\n",
       "      <th>Action</th>\n",
       "      <td>3</td>\n",
       "      <td>3</td>\n",
       "      <td>3</td>\n",
       "      <td>15</td>\n",
       "    </tr>\n",
       "    <tr>\n",
       "      <th>Comedy</th>\n",
       "      <td>3</td>\n",
       "      <td>5</td>\n",
       "      <td>5</td>\n",
       "      <td>23</td>\n",
       "    </tr>\n",
       "    <tr>\n",
       "      <th>Drama</th>\n",
       "      <td>4</td>\n",
       "      <td>6</td>\n",
       "      <td>1</td>\n",
       "      <td>24</td>\n",
       "    </tr>\n",
       "    <tr>\n",
       "      <th>Romance</th>\n",
       "      <td>3</td>\n",
       "      <td>3</td>\n",
       "      <td>4</td>\n",
       "      <td>15</td>\n",
       "    </tr>\n",
       "    <tr>\n",
       "      <th>Thriller</th>\n",
       "      <td>4</td>\n",
       "      <td>1</td>\n",
       "      <td>2</td>\n",
       "      <td>22</td>\n",
       "    </tr>\n",
       "  </tbody>\n",
       "</table>\n",
       "</div>"
      ],
      "text/plain": [
       "ReleaseTime  FS  HS  LW   N\n",
       "Genre                      \n",
       "Action        3   3   3  15\n",
       "Comedy        3   5   5  23\n",
       "Drama         4   6   1  24\n",
       "Romance       3   3   4  15\n",
       "Thriller      4   1   2  22"
      ]
     },
     "execution_count": 51,
     "metadata": {},
     "output_type": "execute_result"
    }
   ],
   "source": [
    "pd.crosstab(df.Genre, df.ReleaseTime)"
   ]
  },
  {
   "cell_type": "markdown",
   "id": "7ef15f60",
   "metadata": {},
   "source": [
    "### Q5. Which month of the year, maximum number movie releases are seen? (Note: Extract a new column called month from ReleaseDate column.)"
   ]
  },
  {
   "cell_type": "code",
   "execution_count": 53,
   "id": "375a71b3",
   "metadata": {},
   "outputs": [
    {
     "data": {
      "text/plain": [
       "1"
      ]
     },
     "execution_count": 53,
     "metadata": {},
     "output_type": "execute_result"
    }
   ],
   "source": [
    "df[\"Release Date\"] = pd.to_datetime(df[\"Release Date\"])\n",
    "df[\"Month\"] = df[\"Release Date\"].dt.month\n",
    "df[\"Month\"].value_counts().idxmax()"
   ]
  },
  {
   "cell_type": "markdown",
   "id": "d6729d90",
   "metadata": {},
   "source": [
    "### Q6. Which month of the year typically sees most releases of high budgeted movies, that is, movies with budget of 25 crore or more?"
   ]
  },
  {
   "cell_type": "code",
   "execution_count": 55,
   "id": "b3235644",
   "metadata": {},
   "outputs": [
    {
     "data": {
      "text/plain": [
       "2"
      ]
     },
     "execution_count": 55,
     "metadata": {},
     "output_type": "execute_result"
    }
   ],
   "source": [
    "BestBudget=df[df['Budget'] >25]\n",
    "BestBudget\n",
    "BestBudget[\"Month\"].value_counts().idxmax()"
   ]
  },
  {
   "cell_type": "markdown",
   "id": "d8017fbd",
   "metadata": {},
   "source": [
    "### Q7. Which are the top 10 movies with maximum return on investment (ROI)? Calculate return on investment (ROI) as (BoxOfficeCollection – Budget) / Budget."
   ]
  },
  {
   "cell_type": "code",
   "execution_count": 57,
   "id": "8e334a5a",
   "metadata": {},
   "outputs": [
    {
     "data": {
      "text/plain": [
       "SlNo\n",
       "65                    Aashiqui 2\n",
       "90                            PK\n",
       "133                  Grand Masti\n",
       "136                 The Lunchbox\n",
       "88                        Fukrey\n",
       "59                      Mary Kom\n",
       "129                       Shahid\n",
       "38     Humpty Sharma Ki Dulhania\n",
       "102           Bhaag Milkha Bhaag\n",
       "116              Chennai Express\n",
       "Name: MovieName, dtype: object"
      ]
     },
     "execution_count": 57,
     "metadata": {},
     "output_type": "execute_result"
    }
   ],
   "source": [
    "df['ROI'] = (df['BoxOfficeCollection'].astype(int)-df['Budget'].astype(int))/(df['Budget'].astype(int))\n",
    "success = df.sort_values(by = \"ROI\", ascending = False).head(10)\n",
    "success['MovieName']"
   ]
  },
  {
   "cell_type": "markdown",
   "id": "c2745a6f",
   "metadata": {},
   "source": [
    "### Q8. Do the movies have higher ROI if they get released on festive seasons or long weekend? Calculate the average ROI for different release times."
   ]
  },
  {
   "cell_type": "code",
   "execution_count": 59,
   "id": "eac95b1d",
   "metadata": {},
   "outputs": [
    {
     "name": "stdout",
     "output_type": "stream",
     "text": [
      "average ROI in  LW = 1.1227460506145381\n",
      "average ROI in  N = 0.6329986651353547\n",
      "average ROI in  HS = 0.8278085830291713\n",
      "average ROI in  FS = 0.9640072629842452\n"
     ]
    }
   ],
   "source": [
    "df['ReleaseTime'].unique()\n",
    "for i in df['ReleaseTime'].unique():\n",
    "    print(\"average ROI in \",i,\"=\",df[df.ReleaseTime==i].ROI.mean())"
   ]
  },
  {
   "cell_type": "markdown",
   "id": "34b424cd",
   "metadata": {},
   "source": [
    "### Q9. Is there a correlation between box office collection and YouTube likes?  Is the correlation positive or negative?"
   ]
  },
  {
   "cell_type": "code",
   "execution_count": 61,
   "id": "513b2e6e",
   "metadata": {},
   "outputs": [
    {
     "data": {
      "text/plain": [
       "<seaborn.axisgrid.FacetGrid at 0xcd8e6aee0>"
      ]
     },
     "execution_count": 61,
     "metadata": {},
     "output_type": "execute_result"
    },
    {
     "data": {
      "image/png": "[encoded data removed]",
      "text/plain": [
       "<Figure size 432x288 with 1 Axes>"
      ]
     },
     "metadata": {
      "needs_background": "light"
     },
     "output_type": "display_data"
    },
    {
     "data": {
      "image/png": "[encoded data removed]",
      "text/plain": [
       "<Figure size 360x360 with 1 Axes>"
      ]
     },
     "metadata": {
      "needs_background": "light"
     },
     "output_type": "display_data"
    }
   ],
   "source": [
    "ax= sb.scatterplot(x=\"BoxOfficeCollection\",y=\"YoutubeLikes\",data=df)\n",
    "ax.set_title(\"BoxOfficeCollection vs YoutubeLikes\")\n",
    "ax.set_xlabel(\"BoxOfficeCollection\")\n",
    "sb.lmplot(x=\"BoxOfficeCollection\",y=\"YoutubeLikes\",data=df)"
   ]
  },
  {
   "cell_type": "code",
   "execution_count": 62,
   "id": "9d01e2ec",
   "metadata": {},
   "outputs": [
    {
     "name": "stdout",
     "output_type": "stream",
     "text": [
      "Correlation is,  0.68252\n"
     ]
    }
   ],
   "source": [
    "print(\"Correlation is, \",round(df['BoxOfficeCollection'].corr(df['YoutubeLikes']),5))"
   ]
  },
  {
   "cell_type": "markdown",
   "id": "08af215a",
   "metadata": {},
   "source": [
    "### Q10. Which genre of movies typically sees more YouTube likes? Draw boxplots for each genre of movies to compare."
   ]
  },
  {
   "cell_type": "code",
   "execution_count": 78,
   "id": "1a98d395",
   "metadata": {},
   "outputs": [
    {
     "data": {
      "text/plain": [
       "<AxesSubplot:xlabel='Genre', ylabel='YoutubeLikes'>"
      ]
     },
     "execution_count": 78,
     "metadata": {},
     "output_type": "execute_result"
    },
    {
     "data": {
      "image/png": "[encoded data removed]",
      "text/plain": [
       "<Figure size 432x288 with 1 Axes>"
      ]
     },
     "metadata": {
      "needs_background": "light"
     },
     "output_type": "display_data"
    }
   ],
   "source": [
    "sb.boxplot(x=\"Genre\", y=\"YoutubeLikes\", data=df, palette=\"Set1\", linewidth=2)"
   ]
  },
  {
   "cell_type": "markdown",
   "id": "54c097b2",
   "metadata": {},
   "source": [
    "### Q11. Which of the variables among Budget, BoxOfficeCollection, YoutubeView, YoutubeLikes, YoutubeDislikes are highly correlated?  Note: Draw pair plot or heatmap."
   ]
  },
  {
   "cell_type": "code",
   "execution_count": 66,
   "id": "0d770b8f",
   "metadata": {},
   "outputs": [
    {
     "data": {
      "image/png": "[encoded data removed]",
      "text/plain": [
       "<Figure size 1296x864 with 2 Axes>"
      ]
     },
     "metadata": {
      "needs_background": "light"
     },
     "output_type": "display_data"
    }
   ],
   "source": [
    "fig=plt.figure(figsize=(18,12))\n",
    "ax=sb.heatmap(df[['Budget','BoxOfficeCollection','YoutubeViews','YoutubeLikes','YoutubeDislikes']])\n",
    "plt.show()"
   ]
  },
  {
   "cell_type": "markdown",
   "id": "54bc9480",
   "metadata": {},
   "source": [
    "### Q12. During 2013−2015 period, highlight the genre of movies and their box office collection? Visualize with best fit graph."
   ]
  },
  {
   "cell_type": "code",
   "execution_count": 68,
   "id": "be1c597d",
   "metadata": {},
   "outputs": [
    {
     "data": {
      "image/png": "[encoded data removed]",
      "text/plain": [
       "<Figure size 432x288 with 1 Axes>"
      ]
     },
     "metadata": {
      "needs_background": "light"
     },
     "output_type": "display_data"
    }
   ],
   "source": [
    "plt.scatter(df.Genre,df.BoxOfficeCollection)\n",
    "plt.show()"
   ]
  },
  {
   "cell_type": "markdown",
   "id": "512c6efa",
   "metadata": {},
   "source": [
    "### Q13. Visualize the Budget and Box office collection based on Genre."
   ]
  },
  {
   "cell_type": "code",
   "execution_count": 79,
   "id": "93a38257",
   "metadata": {},
   "outputs": [
    {
     "data": {
      "image/png": "[encoded data removed]",
      "text/plain": [
       "<Figure size 432x288 with 1 Axes>"
      ]
     },
     "metadata": {
      "needs_background": "light"
     },
     "output_type": "display_data"
    }
   ],
   "source": [
    "plt.scatter(df.Budget,df.BoxOfficeCollection)\n",
    "plt.show()"
   ]
  },
  {
   "cell_type": "markdown",
   "id": "ac14fd8d",
   "metadata": {},
   "source": [
    "### Q14. Find the distribution of movie budget for every Genre."
   ]
  },
  {
   "cell_type": "code",
   "execution_count": 72,
   "id": "f989de4f",
   "metadata": {},
   "outputs": [
    {
     "data": {
      "image/png": "[encoded data removed]",
      "text/plain": [
       "<Figure size 432x288 with 1 Axes>"
      ]
     },
     "metadata": {
      "needs_background": "light"
     },
     "output_type": "display_data"
    }
   ],
   "source": [
    "plt.scatter(df.Genre,df.Budget)\n",
    "plt.show()"
   ]
  },
  {
   "cell_type": "markdown",
   "id": "a87cfb21",
   "metadata": {},
   "source": [
    "### Q15. During 2013−2015, find the number of movies released in every year. Also, visualize with best fit graph."
   ]
  },
  {
   "cell_type": "code",
   "execution_count": 77,
   "id": "9a2c65b7",
   "metadata": {},
   "outputs": [
    {
     "data": {
      "text/plain": [
       "<AxesSubplot:xlabel='Year'>"
      ]
     },
     "execution_count": 77,
     "metadata": {},
     "output_type": "execute_result"
    },
    {
     "data": {
      "image/png": "[encoded data removed]",
      "text/plain": [
       "<Figure size 432x288 with 1 Axes>"
      ]
     },
     "metadata": {
      "needs_background": "light"
     },
     "output_type": "display_data"
    }
   ],
   "source": [
    "df['Year']=pd.DatetimeIndex(df['Release Date']).year\n",
    "df15=pd.crosstab(df.Year,df.shape[0]).sort_values(by=[df.shape[0]])\n",
    "df15\n",
    "df15[df.shape[0]].plot.bar()"
   ]
  }
 ],
 "metadata": {
  "kernelspec": {
   "display_name": "Python 3 (ipykernel)",
   "language": "python",
   "name": "python3"
  },
  "language_info": {
   "codemirror_mode": {
    "name": "ipython",
    "version": 3
   },
   "file_extension": ".py",
   "mimetype": "text/x-python",
   "name": "python",
   "nbconvert_exporter": "python",
   "pygments_lexer": "ipython3",
   "version": "3.9.12"
  }
 },
 "nbformat": 4,
 "nbformat_minor": 5
}
